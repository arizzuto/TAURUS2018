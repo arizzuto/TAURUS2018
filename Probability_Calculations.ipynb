{
 "cells": [
  {
   "cell_type": "code",
   "execution_count": 2,
   "metadata": {},
   "outputs": [
    {
     "name": "stdout",
     "output_type": "stream",
     "text": [
      "<class 'numpy.ndarray'>\n",
      "(array([], dtype=int64),)\n"
     ]
    }
   ],
   "source": [
    "import numpy as np\n",
    "import os,sys,glob,pdb,pickle\n",
    "import pandas as pd\n",
    "import matplotlib.pyplot as plt\n",
    "import matplotlib as mpl\n",
    "sys.path.append('pyutils')\n",
    "import math\n",
    "from scipy import stats\n",
    "from numpy import mean\n",
    "\n",
    "\n",
    "%run taurus_functions.ipynb\n"
   ]
  },
  {
   "cell_type": "code",
   "execution_count": 3,
   "metadata": {},
   "outputs": [
    {
     "name": "stdout",
     "output_type": "stream",
     "text": [
      "done\n",
      "(2000000,)\n",
      "1.0000047553724487\n",
      "2999.9992935288096\n"
     ]
    }
   ],
   "source": [
    "# abs_gmag_error, abs_bmag_error, abs_rmag_error, gaia_id = abs_mag_error()\n",
    "# abs_gmag_error_T_Tau, abs_bmag_error_T_Tau, abs_rmag_error_T_Tau, gaia_id_T_Tau = abs_mag_error_T_Tau()\n",
    "# abs_gmag, abs_bmag, abs_rmag, gaia_id_2 = abs_mag()\n",
    "# abs_gmag_T_Tau, abs_bmag_T_Tau, abs_rmag_T_Tau, gaia_id_T_Tau_2 = abs_mag_T_Tau()\n",
    "\n",
    "#abs_gmag_star, abs_bmag_star, abs_rmag_star = abs_mag_star()\n",
    "#abs_gmag_error_star, abs_bmag_error_star, abs_rmag_error_star = abs_mag_error_star()\n",
    "\n",
    "\n",
    "\n",
    "# random_samples = sample_generate(regen=True)\n",
    "# random_ages = random_samples[:,0]\n",
    "# random_mass = random_samples[:,1]\n",
    "# interp_gmag = random_samples[:,2]\n",
    "# interp_bmag = random_samples[:,3]\n",
    "# interp_rmag = random_samples[:,4]\n",
    "# binaryflag  = random_samples[:,5]\n",
    "# print('done')\n",
    "# print(random_ages)\n",
    "\n",
    "random_samples = read_pickle_file('tmp.pkl')\n",
    "random_ages = random_samples[:,0]\n",
    "random_mass = random_samples[:,1]\n",
    "interp_gmag = random_samples[:,2]\n",
    "interp_bmag = random_samples[:,3]\n",
    "interp_rmag = random_samples[:,4]\n",
    "binaryflag  = random_samples[:,5]\n",
    "print('done')\n",
    "print(random_mass.shape)\n",
    "print(min(random_ages))\n",
    "print(max(random_ages))"
   ]
  },
  {
   "cell_type": "code",
   "execution_count": 4,
   "metadata": {},
   "outputs": [
    {
     "name": "stdout",
     "output_type": "stream",
     "text": [
      "<class 'numpy.ndarray'>\n"
     ]
    }
   ],
   "source": [
    "print(type(random_ages))\n",
    "#Data = gmag, sigma_gmag,  bpmag, sigma_bpmag, rpmag, sigma_rpmag\n",
    "    #Index properly so that each sigma corresponds to the proper mag -----> gmag[i] = sigma_gmag[i]\n",
    "#Product C*e^(-(gmag/bpmag/rpmag-model value for gmag/bpmag/rpmag)^2)/((2*sigmag/sigma_bpmag/sigma_rpmag)^2)\n",
    "#Reference: For i in data, "
   ]
  },
  {
   "cell_type": "code",
   "execution_count": 5,
   "metadata": {},
   "outputs": [
    {
     "name": "stdout",
     "output_type": "stream",
     "text": [
      "[26088]\n"
     ]
    }
   ],
   "source": [
    "def gaussian(inner, error):\n",
    "    return((1/np.sqrt(2*math.pi*error**2))*(np.exp(-(inner)**2/(2*error**2))))\n",
    "\n",
    "ZZ_Tau = star_finder(147869784062378624)\n",
    "print(ZZ_Tau)"
   ]
  },
  {
   "cell_type": "code",
   "execution_count": 37,
   "metadata": {},
   "outputs": [
    {
     "name": "stdout",
     "output_type": "stream",
     "text": [
      "[25442]\n"
     ]
    }
   ],
   "source": [
    "# agehist_storage = ()\n",
    "# agebins_storage = ()\n",
    "# #for i in range(len(abs_gmag)):\n",
    "# #    inner_1 = abs_gmag[i]-interp_gmag[:]\n",
    "# #    inner_2 = abs_bmag[i]-interp_bmag[:]\n",
    "# #    inner_3 = abs_rmag[i]-interp_rmag[:]\n",
    "targetnumber = 145213192171160064 ##hp tau g3\n",
    "#targetnumber = 145213187879627776 ##hp tau\n",
    "#targetnumber = 145213875069914496 #FF Tau\n",
    "fftau = star_finder(targetnumber)\n",
    "print(fftau)\n",
    "\n",
    "#targetnumber = 145213875069914496 ##ff tau\n",
    "#targetnumber = 147869784062378624 #zz tau\n",
    "#targetnumber = 146076343158991104 ## random thing near zz tau?\n",
    "#targetnumber = 187053904579376512 #random error star\n",
    "#targetnumber = 188692997240785024\n",
    "#targetnumber = 64796045587678208 #White Dwarf\n",
    "# targetnumber = 3314132593936244992 \n",
    "#ggtau = np.where(data_3.source_id.values == targetnumber)\n",
    "#targetnumber = data_3.source_id.values[2006]\n",
    "#print(targetnumber)\n",
    "#targetnumber =  3414635344059244032 #104 Tau\n",
    "#targetnumber = 3409635486731094400\n",
    "#abs_gmag_star,abs_bmag_star,abs_rmag_star,abs_gmag_error_star,abs_bmag_error_star,abs_rmag_error_star,sourcenumber = target_star(targetnumber) \n",
    "\n",
    "#GGtau = data_3.values[26088]\n",
    "#SZTAU = data_3.values[SZtau]\n",
    "# #print(dist_gmag_T_Tau)\n",
    "# #print(dist_bmag_T_Tau)\n",
    "# #print(dist_rmag_T_Tau)\n",
    "\n",
    "\n",
    "# ##Note: These are not all zeros so why are the final histograms zero?\n",
    "# #print(np.max(dist_gmag_T_Tau))\n",
    "# #print(np.max(dist_rmag_T_Tau))\n",
    "# #print(np.max(dist_bmag_T_Tau))\n",
    "# #qwe= np.where((<3.85) & (dist_gmag_T_Tau>3.8) & ())[0]\n",
    "# #print(np.max(prob_data_given_model_T_Tau))\n",
    "# #dummy=plt.hist(prob_data_given_model_T_Tau,bins=100,range=[100,3200])\n",
    "\n",
    "# #plt.hist(dist_rmag_T_Tau,bins=100)\n",
    "# #plt.hist(dist_bmag_T_Tau,bins=100)\n",
    "\n",
    "\n",
    "\n",
    "# #qwe = np.where(prob_model_given_data_T_Tau > 1)[0]\n",
    "# #plt.plot(random_ages[qwe],random_mass[qwe],'k.')\n",
    "# #plt.plot(random_ages,random_mass,'k,')\n",
    "# # qwe = np.where(random_ages < 2)[0]\n",
    "# # plt.plot(interp_bmag[qwe]-interp_rmag[qwe],interp_gmag[qwe],'k.')\n",
    "# # plt.plot(abs_bmag_T_Tau-abs_rmag_T_Tau,abs_gmag_T_Tau,'ro')\n",
    "# # plt.plot(zztau_data[1]-zztau_data[2],zztau_data[0],'go')\n",
    "# # print(zztau_data[0],zztau_data[1],zztau_data[2])\n",
    "# # print(12.78+5-5*np.log10(1000.0/7.45)) \n",
    "# # print(zztau_data[-1])\n",
    "# # print(10.3985-8.74)\n",
    "\n",
    "# # plt.plot(5.716-4.187,4.995,'go')\n",
    "\n",
    "# # plt.show()\n",
    "\n",
    "# # print(prob_model_given_data_T_Tau)\n",
    "# # print(prob_data_given_model_T_Tau)\n",
    "\n",
    "\n",
    "\n",
    "\n",
    "# # dist_gmag = gaussian(inner_1, abs_gmag_error[0,i])\n",
    "# # dist_bmag = gaussian(inner_2, abs_bmag_error[0,i])\n",
    "# # dist_rmag = gaussian(inner_3, abs_rmag_error[0,i])\n",
    "\n",
    "# # prob_data_given_model_starwise = dist_gmag * dist_bmag * dist_rmag\n",
    "# # priors = 1.0####!!!THis is where priors go in future \n",
    "# # prob_model_given_data_starwise = priors*prob_data_given_model_starwise  \n",
    "\n",
    "# #     ##this is a 2million size array, and is just for one star!\n",
    "# #     ##now histogram it in age/mass bins, maybe log-age \n",
    "# #     ##I picked 50 bins but you need to figure this out. Also check out the bins='doane' method on the website for np.histogram\n",
    "# # agehist,agebin_edges  = np.histogram(np.log10(random_ages),weights=prob_model_given_data_starwise, bins = 50)\n",
    "# # masshsit,massbin_edges = np.histogram(random_mass, weights=prob_model_given_data_starwise , bins = 50)\n",
    "    \n",
    "# #     ##plot the histo:\n",
    "#     #plt.hist(agebin_edges[0:len(agehist)],agehist,'b-')\n",
    "#     #plt.show()\n",
    "#     ##you can store these histogram points if you like\n",
    "#     #agehist_storage += (agehist.copy(),)\n",
    "#     #agebins_storage += (agebin_edges.copy(),)\n",
    "   \n",
    "#     ##now figure out e.g. the most likley age and some uncertainty\n",
    "#     ##easiest is to calculate the the mean and variance by the normal methods over the histogram bins'''\n",
    "    \n",
    "abs_gmag_star,abs_bmag_star,abs_rmag_star,abs_gmag_error_star,abs_bmag_error_star,abs_rmag_error_star,sourcenumber = target_star(25442)\n"
   ]
  },
  {
   "cell_type": "code",
   "execution_count": 38,
   "metadata": {},
   "outputs": [
    {
     "name": "stdout",
     "output_type": "stream",
     "text": [
      "(2000000,)\n",
      "<class 'numpy.ndarray'>\n"
     ]
    }
   ],
   "source": [
    "    inner_star_g = abs_gmag_star-interp_gmag[:]\n",
    "    inner_star_b = abs_bmag_star-interp_bmag[:]\n",
    "    inner_star_r = abs_rmag_star-interp_rmag[:]\n",
    "\n",
    "print(inner_star_g.shape)\n",
    "print(type(inner_star_g))\n",
    "\n",
    "# for i in range(len(abs_gmag)):\n",
    "#     inner_g = abs_gmag[i]-interp_gmag[:]\n",
    "#     inner_b = abs_bmag[i]-interp_bmag[:]\n",
    "#     inner_r = abs_rmag[i]-interp_rmag[:]\n",
    "    \n",
    "# print(len(inner_g))"
   ]
  },
  {
   "cell_type": "code",
   "execution_count": 39,
   "metadata": {},
   "outputs": [
    {
     "name": "stdout",
     "output_type": "stream",
     "text": [
      "(2000000,)\n"
     ]
    }
   ],
   "source": [
    "dist_gmag_star = gaussian(inner_star_g, abs_gmag_error_star)\n",
    "dist_bmag_star = gaussian(inner_star_b, abs_bmag_error_star)\n",
    "dist_rmag_star = gaussian(inner_star_r, abs_rmag_error_star)\n",
    "\n",
    "\n",
    "print(dist_bmag_star.shape)\n",
    "# for i in range(len(inner_g)):\n",
    "#     dist_gmag = gaussian(inner_g[i], abs_gmag_error[:])\n",
    "#     dist_bmag = gaussian(inner_b[i], abs_bmag_error[:])\n",
    "#     dist_rmag = gaussian(inner_r[i], abs_rmag_error[:])\n"
   ]
  },
  {
   "cell_type": "code",
   "execution_count": 40,
   "metadata": {},
   "outputs": [
    {
     "name": "stdout",
     "output_type": "stream",
     "text": [
      "(2000000,)\n",
      "(2000000,)\n"
     ]
    }
   ],
   "source": [
    "prob_data_given_model_star = dist_gmag_star * dist_bmag_star * dist_rmag_star\n",
    "print(prob_data_given_model_star.shape)\n",
    "#prob_data_given_model = dist_gmag * dist_bmag * dist_rmag\n",
    "\n",
    "##normalize the sampling space:\n",
    "nagebins=200\n",
    "#flat_agehist, flat_agebin_edges_star  = np.histogram(np.log10(random_ages), bins =nagebins ,density=False)\n",
    "\n",
    "#plt.plot(flat_agebin_edges_star[0:len(flat_agehist)],flat_agehist)\n",
    "#plt.show()\n",
    "\n",
    "#actually integrate the IMF prior to find the total.\n",
    "#priors=1.0\n",
    "priors =  (1/((1/(-1.35))*((1.0**(-1.35))-(0.1)**((-1.35)))))*(random_mass)**(-2.35)\n",
    "prob_model_given_data_star = priors*prob_data_given_model_star\n",
    "\n",
    "#plt.plot(random_mass,priors,'k,')\n",
    "#plt.show()\n",
    "#prob_model_given_data = priors*prob_data_given_model\n",
    "\n",
    "print(prob_model_given_data_star.shape)"
   ]
  },
  {
   "cell_type": "code",
   "execution_count": 41,
   "metadata": {},
   "outputs": [
    {
     "data": {
      "image/png": "[encoded data removed]",
      "text/plain": [
       "<Figure size 432x288 with 1 Axes>"
      ]
     },
     "metadata": {},
     "output_type": "display_data"
    },
    {
     "data": {
      "image/png": "[encoded data removed]",
      "text/plain": [
       "<Figure size 432x288 with 1 Axes>"
      ]
     },
     "metadata": {},
     "output_type": "display_data"
    },
    {
     "data": {
      "image/png": "[encoded data removed]",
      "text/plain": [
       "<Figure size 432x288 with 1 Axes>"
      ]
     },
     "metadata": {},
     "output_type": "display_data"
    }
   ],
   "source": [
    "agehist_star, agebin_edges_star  = np.histogram(np.log10(random_ages), weights = prob_model_given_data_star, bins = 200,density=True, normed=True)\n",
    "masshist_star, massbin_edges_star = np.histogram(random_mass, weights = prob_model_given_data_star , bins = 100,density=True, normed=True)\n",
    "# print(type(agehist_T_Tau))\n",
    "# print(type(agebin_edges_T_Tau))\n",
    "# print(len(agehist_T_Tau))\n",
    "# print(len(agebin_edges_T_Tau))\n",
    "# print(agehist_T_Tau)\n",
    "# print(agebin_edges_T_Tau)\n",
    "# print('done')\n",
    "plt.hist(random_ages,bins=200)\n",
    "\n",
    "#print(agebin_edges_star)\n",
    "plt.figure()\n",
    "plt.plot(10**(agebin_edges_star[0:len(agehist_star)]),agehist_star,'b-')\n",
    "# plt.xlim(0,100)\n",
    "plt.xlabel('Age (Myr)')\n",
    "plt.ylabel('')\n",
    "#plt.ylim([0, 300])\n",
    "plt.xlim([1., 2])\n",
    "plt.title('FF Tau Age Prediction Histogram', fontsize=16, fontweight='bold')\n",
    "from matplotlib import rcParams\n",
    "rcParams['axes.titlepad'] = 10 \n",
    "mpl.rcParams['lines.linewidth']   = 1\n",
    "mpl.rcParams['axes.linewidth']    = 2\n",
    "mpl.rcParams['xtick.major.width'] = 2\n",
    "\n",
    "mpl.rcParams['ytick.major.width'] = 2\n",
    "\n",
    "mpl.rcParams['ytick.labelsize'] = 12\n",
    "mpl.rcParams['xtick.labelsize'] = 10\n",
    "mpl.rcParams['axes.labelsize'] = 10\n",
    "mpl.rcParams['legend.numpoints'] = 1\n",
    "mpl.rcParams['axes.labelweight']='bold'\n",
    "mpl.rcParams['axes.titlesize']=18\n",
    "mpl.rcParams['axes.titleweight']='semibold'\n",
    "mpl.rcParams['font.weight'] = 'bold'\n",
    "plt.minorticks_on()\n",
    "plt.savefig('FF TAU_Age_Hist.png')\n",
    "\n",
    "\n",
    "plt.figure()\n",
    "plt.plot(massbin_edges_star[0:len(masshist_star)],masshist_star,'b-')\n",
    "plt.xlabel('Mass (Msun)')\n",
    "plt.ylabel('')\n",
    "#plt.ylim([0, 600])\n",
    "#plt.xlim([0.1, 0.3])\n",
    "plt.title('FF Tau Mass Prediction Histogram', fontsize=16, fontweight='bold')\n",
    "from matplotlib import rcParams\n",
    "from matplotlib import rcParams\n",
    "rcParams['axes.titlepad'] = 10 \n",
    "mpl.rcParams['lines.linewidth']   = 1\n",
    "mpl.rcParams['axes.linewidth']    = 2\n",
    "mpl.rcParams['xtick.major.width'] = 2\n",
    "\n",
    "mpl.rcParams['ytick.major.width'] = 2\n",
    "\n",
    "mpl.rcParams['ytick.labelsize'] = 12\n",
    "mpl.rcParams['xtick.labelsize'] = 10\n",
    "mpl.rcParams['axes.labelsize'] = 10\n",
    "mpl.rcParams['legend.numpoints'] = 1\n",
    "mpl.rcParams['axes.labelweight']='bold'\n",
    "mpl.rcParams['axes.titlesize']=18\n",
    "mpl.rcParams['axes.titleweight']='semibold'\n",
    "mpl.rcParams['font.weight'] = 'bold'\n",
    "plt.minorticks_on()\n",
    "\n",
    "plt.savefig('FF TAU_Mass_Hist.png')\n",
    "plt.show()"
   ]
  },
  {
   "cell_type": "code",
   "execution_count": 42,
   "metadata": {},
   "outputs": [
    {
     "name": "stdout",
     "output_type": "stream",
     "text": [
      "1.3398455191595078 0.11223998661609774 0.32742660455332656 0.006836747805623359\n"
     ]
    }
   ],
   "source": [
    "expected_star_age = np.average(random_ages, weights = prob_model_given_data_star)\n",
    "variance_star_age = np.sqrt(np.average((random_ages - expected_star_age)**2, weights=prob_model_given_data_star))\n",
    "expected_star_mass = np.average(random_mass, weights = prob_model_given_data_star )\n",
    "variance_star_mass = np.sqrt(np.average((random_mass-expected_star_mass)**2, weights=prob_model_given_data_star))\n",
    "print(expected_star_age, variance_star_age, expected_star_mass, variance_star_mass)"
   ]
  },
  {
   "cell_type": "code",
   "execution_count": null,
   "metadata": {
    "collapsed": true
   },
   "outputs": [],
   "source": [
    "#plt.hist( dist_gmag,bins=200)\n",
    "\n",
    "#plt.scatter(abs_bmag-abs_rmag, abs_gmag, alpha=1, label='Data', marker=',',s=1, c='g')\n",
    "#bin = np.where(binaryflag == 1)[0]\n",
    "#nbin = np.where(binaryflag != 1)[0]\n",
    "#qwe = np.where(random_ages<3)[0]\n",
    "#plt.scatter(interp_bmag[qwe]-interp_rmag[qwe], interp_gmag[qwe], alpha=1, label='Random Data', marker=',',s=1, c='k')\n",
    "qwe = np.where((random_ages<100) & (random_ages > 30))[0]\n",
    "plt.plot(interp_bmag[qwe]-interp_rmag[qwe], interp_gmag[qwe], 'k.')\n",
    "\n",
    "#print(bin.shape,nbin.shape,nbin.shape[0]*1.0/(binaryflag.shape[0]))\n",
    "#print(np.unique(binaryflag))\n",
    "#plt.plot(interp_bmag[nbin]-interp_rmag[nbin], interp_gmag[nbin],',k')\n",
    "#plt.scatter(interp_bmag-interp_rmag, interp_gmag,marker=',', c='k')\n",
    "\n",
    "plt.plot(abs_bmag_star-abs_rmag_star, abs_gmag_star, 'ro')\n",
    "#plt.errorbar(abs_bmag_star-abs_rmag_star, abs_gmag_star,yerr=abs_gmag_error_star,xerr=np.sqrt(abs_bmag_error_star**2 + abs_rmag_error_star**2),fmt='ro')\n",
    "plt.xlim(1,4)\n",
    "plt.ylim(12,6)\n",
    "plt.suptitle('Hertzsprung Russell Diagram')\n",
    "plt.xlabel('B-R')\n",
    "plt.ylabel('Absolute Magnitude')\n",
    "\n",
    "\n",
    "plt.show()"
   ]
  },
  {
   "cell_type": "code",
   "execution_count": null,
   "metadata": {
    "collapsed": true
   },
   "outputs": [],
   "source": [
    "# log_age_sample = sample_generate(nsamples=2000000, regen=True, outfilename='log_age.pkl')\n",
    "\n",
    "# file = pickle.load(open('log_age.pkl', 'rb'))\n",
    "\n",
    "# random_log_age_samples = log_age_sample\n",
    "# random_log_ages = random_log_age_samples[:,0]\n",
    "# random_mass_2 = random_log_age_samples[:,1]\n",
    "# interp_gmag_2 = random_log_age_samples[:,2]\n",
    "# interp_bmag_2 = random_log_age_samples[:,3]\n",
    "# interp_rmag_2 = random_log_age_samples[:,4]\n",
    "# print('done')\n",
    "# print((random_log_ages))\n",
    "# print(len(np.where(random_log_ages < 0)))"
   ]
  },
  {
   "cell_type": "code",
   "execution_count": null,
   "metadata": {
    "collapsed": true
   },
   "outputs": [],
   "source": [
    "agehist_log, agebin_edges_log = np.histogram(np.log10(random_ages), weights = prob_model_given_data_star, bins = 200)"
   ]
  },
  {
   "cell_type": "code",
   "execution_count": null,
   "metadata": {
    "collapsed": true
   },
   "outputs": [],
   "source": [
    "plt.plot(10**(agebin_edges_log[0:len(agehist_log)]),agehist_log,'b-')\n",
    "plt.xlabel('Age (Myr)')\n",
    "#plt.xlim([1,4])\n"
   ]
  },
  {
   "cell_type": "code",
   "execution_count": null,
   "metadata": {
    "collapsed": true
   },
   "outputs": [],
   "source": [
    "plt.scatter(abs_bmag_star-abs_rmag_star, abs_gmag_star)\n",
    "print(abs_bmag_star-abs_rmag_star)\n",
    "print(abs_rmag_star)\n",
    "print(abs_gmag_star)\n",
    "      "
   ]
  },
  {
   "cell_type": "code",
   "execution_count": null,
   "metadata": {
    "collapsed": true
   },
   "outputs": [],
   "source": []
  }
 ],
 "metadata": {
  "kernelspec": {
   "display_name": "Python 2",
   "language": "python",
   "name": "python2"
  },
  "language_info": {
   "codemirror_mode": {
    "name": "ipython",
    "version": 2
   },
   "file_extension": ".py",
   "mimetype": "text/x-python",
   "name": "python",
   "nbconvert_exporter": "python",
   "pygments_lexer": "ipython2",
   "version": "2.7.13"
  }
 },
 "nbformat": 4,
 "nbformat_minor": 2
}
