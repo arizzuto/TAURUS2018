{
 "cells": [
  {
   "cell_type": "code",
   "execution_count": 2,
   "metadata": {
    "collapsed": true
   },
   "outputs": [],
   "source": [
    "import numpy as np\n",
    "import os,sys,glob,pdb,pickle\n",
    "import pandas as pd\n",
    "import matplotlib.pyplot as plt\n",
    "import matplotlib as mpl\n",
    "sys.path.append('pyutils')\n",
    "import math"
   ]
  },
  {
   "cell_type": "code",
   "execution_count": 3,
   "metadata": {},
   "outputs": [
    {
     "name": "stdout",
     "output_type": "stream",
     "text": [
      "<class 'numpy.ndarray'>\n"
     ]
    }
   ],
   "source": [
    "def read_pickle_file(file):\n",
    "    pickle_data = pd.read_pickle(file)\n",
    "    return pickle_data\n",
    "\n",
    "def readfile(filename):\n",
    "    output = pd.read_csv(filename, sep=',')\n",
    "    return output\n",
    "\n",
    "dfile = 'GDR2_TAUAUR_cleaned.csv'\n",
    "data = readfile(dfile)\n",
    "#print(len(data))\n",
    "\n",
    "phot_bp_mean_flux_error = data.phot_bp_mean_flux.values *( 1/(data.phot_bp_mean_flux_over_error.values))\n",
    "phot_rp_mean_flux_error = data.phot_rp_mean_flux.values *( 1/(data.phot_rp_mean_flux_over_error.values))\n",
    "phot_g_mean_flux_error = data.phot_g_mean_flux.values *( 1/(data.phot_g_mean_flux_over_error.values))\n",
    "keep_2 = np.where((data.phot_g_mean_flux_over_error.values > 50)  & (data.visibility_periods_used.values > 8) & (data.phot_bp_mean_flux_over_error.values > 20) & (data.phot_rp_mean_flux_over_error.values > 20))[0]\n",
    "data_3 = data.iloc[keep_2]\n",
    "source_id = data_3.source_id.values\n",
    "mag_bp_error = np.abs(-2.5*(data_3.phot_bp_mean_flux_error.values/(data_3.phot_bp_mean_flux.values*math.log(10))))\n",
    "mag_rp_error = np.abs(-2.5*(data_3.phot_rp_mean_flux_error.values/(data_3.phot_rp_mean_flux.values*math.log(10))))\n",
    "mag_g_error = np.abs(-2.5*(data_3.phot_g_mean_flux_error.values/(data_3.phot_g_mean_flux.values*math.log(10))))\n",
    "abs_mag_g = data_3.phot_g_mean_mag.values+5-5*np.log10(1000.0/data_3.parallax.values)\n",
    "abs_mag_bp = data_3.phot_bp_mean_mag.values+5-5*np.log10(1000.0/data_3.parallax.values)\n",
    "abs_mag_rp = data_3.phot_rp_mean_mag.values+5-5*np.log10(1000.0/data_3.parallax.values)\n",
    "parallax_error_np_array= np.array([data_3.parallax_error.values])\n",
    "parallax_np_array = np.array([data_3.parallax.values])\n",
    "mag_g_error_np_array= np.array([mag_g_error])\n",
    "mag_bp_error_np_array= np.array([mag_bp_error])\n",
    "mag_rp_error_np_array= np.array([mag_rp_error])\n",
    "abs_mag_g_error = np.sqrt((mag_g_error_np_array)**2 + np.abs(5*(parallax_error_np_array/parallax_np_array)/(math.log(10)))**2)\n",
    "abs_mag_bp_error = np.sqrt((mag_bp_error_np_array)**2 + np.abs(5*(parallax_error_np_array/parallax_np_array)/(math.log(10)))**2)\n",
    "abs_mag_rp_error = np.sqrt((mag_rp_error_np_array)**2 + np.abs(5*(parallax_error_np_array/parallax_np_array)/(math.log(10)))**2)\n",
    "\n",
    "#source_id = 48192969034959232\n",
    "#source_id  = data_3.source_id.values[101]\n",
    "def star_finder(source_id):\n",
    "    return np.where(data_3.source_id.values == source_id)[0]\n",
    "\n",
    "# PROBLEM = star_finder(source_id)\n",
    "# print(type(PROBLEM))\n",
    "# PROBLEM = np.asscalar(PROBLEM)\n",
    "# print(type(PROBLEM))\n",
    "\n",
    "data_Star = data_3\n",
    "# data_T_Tau = data_3.iloc[T_Tau]\n",
    "\n",
    "\n",
    "# abs_mag_g_T_Tau = data_T_Tau.phot_g_mean_mag.values+5-5*np.log10(1000.0/data_T_Tau.parallax.values)\n",
    "# abs_mag_bp_T_Tau = data_T_Tau.phot_bp_mean_mag.values+5-5*np.log10(1000.0/data_T_Tau.parallax.values)\n",
    "# abs_mag_rp_T_Tau = data_T_Tau.phot_rp_mean_mag.values+5-5*np.log10(1000.0/data_T_Tau.parallax.values)\n",
    "abs_mag_g_Star = data_Star.phot_g_mean_mag.values+5-5*np.log10(1000.0/data_Star.parallax.values)\n",
    "abs_mag_b_Star = data_Star.phot_bp_mean_mag.values+5-5*np.log10(1000.0/data_Star.parallax.values)\n",
    "abs_mag_r_Star = data_Star.phot_rp_mean_mag.values+5-5*np.log10(1000.0/data_Star.parallax.values)\n",
    "# mag_g_error_T_Tau = np.abs(-2.5*(phot_g_mean_flux_error[T_Tau]/(data_T_Tau.phot_g_mean_flux.values*math.log(10))))\n",
    "# mag_bp_error_T_Tau = np.abs(-2.5*(phot_bp_mean_flux_error[T_Tau]/(data_T_Tau.phot_bp_mean_flux.values*math.log(10))))\n",
    "# mag_rp_error_T_Tau = np.abs(-2.5*(phot_rp_mean_flux_error[T_Tau]/(data_T_Tau.phot_rp_mean_flux.values*math.log(10))))\n",
    "mag_g_error_Star =  np.abs(-2.5*(data_Star.phot_g_mean_flux_error.values/(data_Star.phot_g_mean_flux.values*math.log(10))))\n",
    "mag_b_error_Star = np.abs(-2.5*(data_Star.phot_bp_mean_flux_error.values/(data_Star.phot_bp_mean_flux.values*math.log(10))))\n",
    "mag_r_error_Star = np.abs(-2.5*(data_Star.phot_rp_mean_flux_error.values/(data_Star.phot_rp_mean_flux.values*math.log(10))))\n",
    "# abs_mag_g_error_T_Tau = np.sqrt((mag_g_error_T_Tau)**2 + np.abs(5*(data_T_Tau.parallax_error.values/data_T_Tau.parallax.values)/(math.log(10)))**2)\n",
    "# abs_mag_bp_error_T_Tau = np.sqrt((mag_bp_error_T_Tau)**2 + np.abs(5*(data_T_Tau.parallax_error.values/data_T_Tau.parallax.values)/(math.log(10)))**2)\n",
    "# abs_mag_rp_error_T_Tau = np.sqrt((mag_rp_error_T_Tau)**2 + np.abs(5*(data_T_Tau.parallax_error.values/data_T_Tau.parallax.values)/(math.log(10)))**2)\n",
    "abs_mag_g_error_Star = np.sqrt((mag_g_error_Star)**2 + np.abs(5*(data_Star.parallax_error.values/data_Star.parallax.values)/(math.log(10)))**2)\n",
    "abs_mag_b_error_Star = np.sqrt((mag_b_error_Star)**2 + np.abs(5*(data_Star.parallax_error.values/data_Star.parallax.values)/(math.log(10)))**2)\n",
    "abs_mag_r_error_Star = np.sqrt((mag_r_error_Star)**2 + np.abs(5*(data_Star.parallax_error.values/data_Star.parallax.values)/(math.log(10)))**2)\n",
    "\n",
    "print(type(abs_mag_g_Star))\n",
    "\n",
    "def abs_mag_error():\n",
    "    return abs_mag_g_error, abs_mag_bp_error, abs_mag_rp_error, source_id\n",
    "\n",
    "def abs_mag():\n",
    "    return abs_mag_g, abs_mag_bp, abs_mag_rp, source_id\n",
    "\n",
    "\n",
    "def abs_mag_error_star():\n",
    "    return abs_mag_g_error_Star, abs_mag_b_error_Star, abs_mag_r_error_Star\n",
    "\n",
    "\n",
    "\n",
    "def target_star(PROBLEM):\n",
    "    return abs_mag_g_Star[PROBLEM],abs_mag_b_Star[PROBLEM],abs_mag_r_Star[PROBLEM],mag_g_error_Star[PROBLEM],mag_b_error_Star[PROBLEM],mag_r_error_Star[PROBLEM], data_Star.source_id.values[PROBLEM]\n",
    "\n",
    "def target_data(gaia_id):\n",
    "    for i in data_Star.values:\n",
    "        gaia_id[i:] = data_Star.source_id.values[i:]\n",
    "    #indexpoint = np.where(data_3.source_id.values == gaia_id)[0]\n",
    "    return abs_mag_g_Star[(gaia_id)[i:]],abs_mag_b_Star[(gaia_id)[i:]],abs_mag_r_Star[(gaia_id)[i:]],mag_g_error_Star[(gaia_id)[i:]],mag_b_error_Star[(gaia_id)[i:]],mag_r_error_Star[(gaia_id)[i:]], data_3.source_id.values[(gaia_id)[i:]]\n",
    "\n",
    "#\n",
    "\n",
    "# abs_mag_g_Star = abs_mag_g_Star[np.newaxis]\n",
    "# abs_mag_b_Star = abs_mag_b_Star[np.newaxis]\n",
    "# abs_mag_r_Star = abs_mag_r_Star[np.newaxis]\n",
    "# abs_mag_g_error_Star = abs_mag_g_error_Star[np.newaxis]\n",
    "# abs_mag_b_error_Star = abs_mag_b_error_Star[np.newaxis]\n",
    "# abs_mag_r_error_Star = abs_mag_r_error_Star[np.newaxis]\n",
    "# source_ids = data_Star.source_id.values[np.newaxis]\n",
    "# print(abs_mag_g_Star.shape)\n",
    "# print(len(data_Star.values))\n",
    "\n",
    "# abs_mag_g_Star = abs_mag_g_Star.T\n",
    "# abs_mag_b_Star = abs_mag_b_Star.T\n",
    "# abs_mag_r_Star = abs_mag_r_Star.T\n",
    "# abs_mag_g_error_Star = abs_mag_g_error_Star.T\n",
    "# abs_mag_b_error_Star = abs_mag_b_error_Star.T\n",
    "# abs_mag_r_error_Star = abs_mag_r_error_Star.T\n",
    "# source_ids = data_Star.source_id.values.T\n",
    "\n",
    "# abs_mag_g_Star = list(abs_mag_g_Star)\n",
    "# abs_mag_b_Star = list(abs_mag_b_Star)\n",
    "# abs_mag_r_Star = list(abs_mag_r_Star)\n",
    "# abs_mag_g_error_Star = list(abs_mag_g_error_Star)\n",
    "# abs_mag_b_error_Star = list(abs_mag_b_error_Star)\n",
    "# abs_mag_r_error_Star = list(abs_mag_r_error_Star)\n",
    "# source_ids = list(data_Star.source_id.values)\n",
    "\n",
    "\n",
    "STAR_ARRAY = np.zeros((len(data_Star.values), 7))\n",
    "\n",
    "for i in range(len(data_Star.values)):\n",
    "\n",
    "    STAR_ARRAY[i,0] = abs_mag_g_Star[i]\n",
    "    STAR_ARRAY[i,1] = abs_mag_b_Star[i]\n",
    "    STAR_ARRAY[i,2] = abs_mag_r_Star[i]\n",
    "    STAR_ARRAY[i,3] = abs_mag_g_error_Star[i]\n",
    "    STAR_ARRAY[i,4] = abs_mag_b_error_Star[i]\n",
    "    STAR_ARRAY[i,5] = abs_mag_r_error_Star[i]\n",
    "    STAR_ARRAY[i,6] = data_3.source_id.values[i]\n",
    "\n",
    "\n",
    "def gaussian(inner, error):\n",
    "    return((1/np.sqrt(2*math.pi*error**2))*(np.exp(-(inner)**2/(2*error**2))))"
   ]
  },
  {
   "cell_type": "code",
   "execution_count": 4,
   "metadata": {
    "collapsed": true
   },
   "outputs": [],
   "source": [
    "def sample_generate(nsamples=2000000, regen=False, outfilename='tmp.pkl',readfile=None):\n",
    "    \n",
    "    if regen == False:\n",
    "        import pickle\n",
    "        if readfile == None: readfile = 'Random_sample_180625.pkl'\n",
    "        f = pickle.load(open(readfile, 'rb'))\n",
    "        return f\n",
    "    \n",
    "    if regen == True:\n",
    "        import pickle\n",
    "        import numpy as np\n",
    "        model_ages,model_array=pickle.load(open('stacked_parsec_models.pkl','rb'))\n",
    "        model_stars = np.zeros((nsamples,6),dtype=float)\n",
    "\n",
    "        random_age = 10**(np.random.uniform(np.log10(1), np.log10(3000),size=2000000))\n",
    "        \n",
    "        \n",
    "        \n",
    "        random_mass = np.random.uniform(0.1,1.0,size=nsamples)\n",
    "        random_binprob = np.random.uniform(0.0,1.0,size=nsamples)\n",
    "        binary_flag = np.zeros(len(random_mass)) -1\n",
    "        \n",
    "        for i in range(len(random_age)):\n",
    "            low_indx = np.where(model_ages <= random_age[i])[0][-1]\n",
    "            high_indx = np.where(model_ages > random_age[i])[0][0]\n",
    "            \n",
    "            lowmodel  = model_array[low_indx]\n",
    "            highmodel = model_array[high_indx]\n",
    "            \n",
    "            low_gmag = np.interp(random_mass[i],lowmodel.Mass,lowmodel.Gmag)\n",
    "            low_bpmag = np.interp(random_mass[i],lowmodel.Mass,lowmodel.G_BPmag)\n",
    "            low_rpmag = np.interp(random_mass[i],lowmodel.Mass,lowmodel.G_RPmag)\n",
    "            high_gmag = np.interp(random_mass[i],highmodel.Mass,highmodel.Gmag)\n",
    "            high_bpmag = np.interp(random_mass[i],highmodel.Mass,highmodel.G_BPmag)\n",
    "            high_rpmag = np.interp(random_mass[i],highmodel.Mass,highmodel.G_RPmag)\n",
    "            \n",
    "            if random_binprob[i] < 0.44:\n",
    "                random_companion_mass = np.random.uniform(np.max([lowmodel.Mass[0],highmodel.Mass[0]]),random_mass[i],size=1)[0]\n",
    "                binary_flag[i] = random_companion_mass/random_mass[i]\n",
    "                ##now do the above interpolation on the grid but for the companion random mass\n",
    "                \n",
    "                ##this gives you a set of low/high G/R/B mags foe the companion\n",
    "                low_gmag_comp  = np.interp(random_companion_mass,lowmodel.Mass,lowmodel.Gmag)\n",
    "                high_gmag_comp = np.interp(random_companion_mass,highmodel.Mass,highmodel.Gmag)\n",
    "                low_bpmag_comp  = np.interp(random_companion_mass,lowmodel.Mass,lowmodel.G_BPmag)\n",
    "                high_bpmag_comp = np.interp(random_companion_mass,highmodel.Mass,highmodel.G_BPmag)\n",
    "                low_rpmag_comp  = np.interp(random_companion_mass,lowmodel.Mass,lowmodel.G_RPmag)\n",
    "                high_rpmag_comp = np.interp(random_companion_mass,highmodel.Mass,highmodel.G_RPmag)\n",
    "                \n",
    "                low_gmag  = -2.5*np.log10(10**(-0.4*low_gmag) + 10**(-0.4*low_gmag_comp))\n",
    "                high_gmag = -2.5*np.log10(10**(-0.4*high_gmag) + 10**(-0.4*high_gmag_comp))\n",
    "                low_bpmag  = -2.5*np.log10(10**(-0.4*low_bpmag) + 10**(-0.4*low_bpmag_comp))\n",
    "                high_bpmag = -2.5*np.log10(10**(-0.4*high_bpmag) + 10**(-0.4*high_bpmag_comp))\n",
    "                low_rpmag  = -2.5*np.log10(10**(-0.4*low_rpmag) + 10**(-0.4*low_rpmag_comp))\n",
    "                high_rpmag = -2.5*np.log10(10**(-0.4*high_rpmag) + 10**(-0.4*high_rpmag_comp))\n",
    "                \n",
    "                ##add them to the corresponding values for the primary\n",
    "                \n",
    "            \n",
    "            \n",
    "            \n",
    "            model_stars[i,0] =(random_age[i])\n",
    "            model_stars[i,1] =(random_mass[i])\n",
    "            model_stars[i,2] = np.interp(random_age[i],[model_ages[low_indx],model_ages[high_indx]],[low_gmag,high_gmag])\n",
    "            model_stars[i,3] = np.interp(random_age[i],[model_ages[low_indx],model_ages[high_indx]],[low_bpmag,high_bpmag])\n",
    "            model_stars[i,4] = np.interp(random_age[i],[model_ages[low_indx],model_ages[high_indx]],[low_rpmag,high_rpmag])\n",
    "            model_stars[i,5] = binary_flag[i]\n",
    "          \n",
    "            if np.mod(i+1,50000) == 0: print('up to ' + str(i+1) + 'out of ' + str(nsamples))\n",
    "            \n",
    "           \n",
    "        pickle.dump(model_stars, open(outfilename,'wb'))\n",
    "        print('outputting samples to ' + outfilename)\n",
    "        return model_stars\n"
   ]
  },
  {
   "cell_type": "code",
   "execution_count": 5,
   "metadata": {
    "collapsed": true
   },
   "outputs": [],
   "source": [
    "# testing = sample_generate()\n",
    "# print(testing.shape)"
   ]
  },
  {
   "cell_type": "code",
   "execution_count": 6,
   "metadata": {
    "collapsed": true
   },
   "outputs": [],
   "source": [
    "# testing_2 = sample_generate(nsamples=10,regen=True)\n",
    "# print(testing_2.shape)"
   ]
  },
  {
   "cell_type": "code",
   "execution_count": 7,
   "metadata": {
    "collapsed": true
   },
   "outputs": [],
   "source": [
    "def length_of_list(list_of_numbers, number):\n",
    "    x = [i for i in list_of_numbers if i == number]\n",
    "    return len(x)"
   ]
  },
  {
   "cell_type": "code",
   "execution_count": 8,
   "metadata": {
    "collapsed": true
   },
   "outputs": [],
   "source": [
    "def length_of_list_2(list_of_numbers, number):\n",
    "    x = [i for i in list_of_numbers if i != number]\n",
    "    return len(x)"
   ]
  },
  {
   "cell_type": "code",
   "execution_count": 9,
   "metadata": {
    "collapsed": true
   },
   "outputs": [],
   "source": [
    "def sample_generate_check(nsamples=2000000, regen=False):\n",
    "    \n",
    "    if regen == True:\n",
    "        random_age = 10**(np.random.uniform(np.log10(1), np.log10(3000),size=2000000))\n",
    "        random_mass = np.random.uniform(0.1,1.0,size=nsamples)\n",
    "        return print(random_age), length_of_list(random_age, 0)"
   ]
  },
  {
   "cell_type": "code",
   "execution_count": 10,
   "metadata": {},
   "outputs": [
    {
     "name": "stdout",
     "output_type": "stream",
     "text": [
      "(array([], dtype=int64),)\n"
     ]
    }
   ],
   "source": [
    "\n",
    "Target_Issue = np.where(data.index.values == 187053904579376512)\n",
    "print(Target_Issue)"
   ]
  },
  {
   "cell_type": "code",
   "execution_count": null,
   "metadata": {
    "collapsed": true
   },
   "outputs": [],
   "source": []
  },
  {
   "cell_type": "code",
   "execution_count": null,
   "metadata": {
    "collapsed": true,
    "scrolled": true
   },
   "outputs": [],
   "source": []
  },
  {
   "cell_type": "code",
   "execution_count": null,
   "metadata": {
    "collapsed": true
   },
   "outputs": [],
   "source": []
  },
  {
   "cell_type": "code",
   "execution_count": null,
   "metadata": {
    "collapsed": true
   },
   "outputs": [],
   "source": []
  }
 ],
 "metadata": {
  "kernelspec": {
   "display_name": "Python 2",
   "language": "python",
   "name": "python2"
  },
  "language_info": {
   "codemirror_mode": {
    "name": "ipython",
    "version": 2
   },
   "file_extension": ".py",
   "mimetype": "text/x-python",
   "name": "python",
   "nbconvert_exporter": "python",
   "pygments_lexer": "ipython2",
   "version": "2.7.13"
  }
 },
 "nbformat": 4,
 "nbformat_minor": 2
}
