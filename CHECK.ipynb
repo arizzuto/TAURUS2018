{
 "cells": [
  {
   "cell_type": "code",
   "execution_count": 1,
   "metadata": {},
   "outputs": [
    {
     "name": "stderr",
     "output_type": "stream",
     "text": [
      "taurus_functions.ipynb:33: DeprecationWarning: elementwise == comparison failed; this will raise an error in the future.\n",
      "  \"phot_bp_mean_flux_error = data.phot_bp_mean_flux.values *( 1/(data.phot_bp_mean_flux_over_error.values))\\n\",\n"
     ]
    }
   ],
   "source": [
    "import numpy as np\n",
    "import os,sys,glob,pdb,pickle\n",
    "import pandas as pd\n",
    "import matplotlib.pyplot as plt\n",
    "import matplotlib as mpl\n",
    "sys.path.append('pyutils')\n",
    "import math\n",
    "\n",
    "%run taurus_functions.ipynb"
   ]
  },
  {
   "cell_type": "code",
   "execution_count": 2,
   "metadata": {},
   "outputs": [],
   "source": [
    "z = 1/((1/(-1.35))*((1.0**(-1.35))-(0.1)**((-1.35))))"
   ]
  },
  {
   "cell_type": "code",
   "execution_count": 3,
   "metadata": {},
   "outputs": [
    {
     "name": "stdout",
     "output_type": "stream",
     "text": [
      "0.0631218336815846\n"
     ]
    }
   ],
   "source": [
    "print(z)"
   ]
  },
  {
   "cell_type": "code",
   "execution_count": null,
   "metadata": {},
   "outputs": [],
   "source": [
    "# if every point is 0, pretend age is 1000 million years old\n",
    "# variance 2000\n",
    "#python scatter plot where color is a variable----> color bar"
   ]
  }
 ],
 "metadata": {
  "kernelspec": {
   "display_name": "Python 3",
   "language": "python",
   "name": "python3"
  },
  "language_info": {
   "codemirror_mode": {
    "name": "ipython",
    "version": 3
   },
   "file_extension": ".py",
   "mimetype": "text/x-python",
   "name": "python",
   "nbconvert_exporter": "python",
   "pygments_lexer": "ipython3",
   "version": "3.5.5"
  }
 },
 "nbformat": 4,
 "nbformat_minor": 2
}
