{
 "cells": [
  {
   "cell_type": "code",
   "execution_count": 53,
   "metadata": {},
   "outputs": [
    {
     "name": "stdout",
     "output_type": "stream",
     "text": [
      "(array([0]),)\n",
      "34295\n"
     ]
    }
   ],
   "source": [
    "import numpy as np\n",
    "import os,sys,glob,pdb,pickle\n",
    "import pandas as pd\n",
    "import matplotlib.pyplot as plt\n",
    "import matplotlib as mpl\n",
    "sys.path.append('pyutils')\n",
    "import math\n",
    "from scipy import stats\n",
    "from numpy import mean\n",
    "\n",
    "\n",
    "%run taurus_functions.ipynb"
   ]
  },
  {
   "cell_type": "code",
   "execution_count": 8,
   "metadata": {},
   "outputs": [
    {
     "name": "stdout",
     "output_type": "stream",
     "text": [
      "up to 50000out of 2000000\n",
      "up to 100000out of 2000000\n",
      "up to 150000out of 2000000\n",
      "up to 200000out of 2000000\n",
      "up to 250000out of 2000000\n",
      "up to 300000out of 2000000\n",
      "up to 350000out of 2000000\n",
      "up to 400000out of 2000000\n",
      "up to 450000out of 2000000\n",
      "up to 500000out of 2000000\n",
      "up to 550000out of 2000000\n",
      "up to 600000out of 2000000\n",
      "up to 650000out of 2000000\n",
      "up to 700000out of 2000000\n",
      "up to 750000out of 2000000\n",
      "up to 800000out of 2000000\n",
      "up to 850000out of 2000000\n",
      "up to 900000out of 2000000\n",
      "up to 950000out of 2000000\n",
      "up to 1000000out of 2000000\n",
      "up to 1050000out of 2000000\n",
      "up to 1100000out of 2000000\n",
      "up to 1150000out of 2000000\n",
      "up to 1200000out of 2000000\n",
      "up to 1250000out of 2000000\n",
      "up to 1300000out of 2000000\n",
      "up to 1350000out of 2000000\n",
      "up to 1400000out of 2000000\n",
      "up to 1450000out of 2000000\n",
      "up to 1500000out of 2000000\n",
      "up to 1550000out of 2000000\n",
      "up to 1600000out of 2000000\n",
      "up to 1650000out of 2000000\n",
      "up to 1700000out of 2000000\n",
      "up to 1750000out of 2000000\n",
      "up to 1800000out of 2000000\n",
      "up to 1850000out of 2000000\n",
      "up to 1900000out of 2000000\n",
      "up to 1950000out of 2000000\n",
      "up to 2000000out of 2000000\n",
      "outputting samples to tmp.pkl\n",
      "done\n",
      "[  26.95785452   95.63725967  585.37321697 ...    1.48130706 1082.64299495\n",
      "  723.21370557]\n"
     ]
    },
    {
     "ename": "NameError",
     "evalue": "name 'abs_gmag_star' is not defined",
     "output_type": "error",
     "traceback": [
      "\u001b[0;31m---------------------------------------------------------------------------\u001b[0m",
      "\u001b[0;31mNameError\u001b[0m                                 Traceback (most recent call last)",
      "\u001b[0;32m<ipython-input-8-ddf78f05b708>\u001b[0m in \u001b[0;36m<module>\u001b[0;34m()\u001b[0m\n\u001b[1;32m     32\u001b[0m     \u001b[0;32mreturn\u001b[0m\u001b[0;34m(\u001b[0m\u001b[0;34m(\u001b[0m\u001b[0;36m1\u001b[0m\u001b[0;34m/\u001b[0m\u001b[0mnp\u001b[0m\u001b[0;34m.\u001b[0m\u001b[0msqrt\u001b[0m\u001b[0;34m(\u001b[0m\u001b[0;36m2\u001b[0m\u001b[0;34m*\u001b[0m\u001b[0mmath\u001b[0m\u001b[0;34m.\u001b[0m\u001b[0mpi\u001b[0m\u001b[0;34m*\u001b[0m\u001b[0merror\u001b[0m\u001b[0;34m**\u001b[0m\u001b[0;36m2\u001b[0m\u001b[0;34m)\u001b[0m\u001b[0;34m)\u001b[0m\u001b[0;34m*\u001b[0m\u001b[0;34m(\u001b[0m\u001b[0mnp\u001b[0m\u001b[0;34m.\u001b[0m\u001b[0mexp\u001b[0m\u001b[0;34m(\u001b[0m\u001b[0;34m-\u001b[0m\u001b[0;34m(\u001b[0m\u001b[0minner\u001b[0m\u001b[0;34m)\u001b[0m\u001b[0;34m**\u001b[0m\u001b[0;36m2\u001b[0m\u001b[0;34m/\u001b[0m\u001b[0;34m(\u001b[0m\u001b[0;36m2\u001b[0m\u001b[0;34m*\u001b[0m\u001b[0merror\u001b[0m\u001b[0;34m**\u001b[0m\u001b[0;36m2\u001b[0m\u001b[0;34m)\u001b[0m\u001b[0;34m)\u001b[0m\u001b[0;34m)\u001b[0m\u001b[0;34m)\u001b[0m\u001b[0;34m\u001b[0m\u001b[0m\n\u001b[1;32m     33\u001b[0m \u001b[0;34m\u001b[0m\u001b[0m\n\u001b[0;32m---> 34\u001b[0;31m \u001b[0minner_star_g\u001b[0m \u001b[0;34m=\u001b[0m \u001b[0mabs_gmag_star\u001b[0m\u001b[0;34m[\u001b[0m\u001b[0;36m0\u001b[0m\u001b[0;34m]\u001b[0m\u001b[0;34m-\u001b[0m\u001b[0minterp_gmag\u001b[0m\u001b[0;34m[\u001b[0m\u001b[0;34m:\u001b[0m\u001b[0;34m]\u001b[0m\u001b[0;34m\u001b[0m\u001b[0m\n\u001b[0m\u001b[1;32m     35\u001b[0m \u001b[0minner_star_b\u001b[0m \u001b[0;34m=\u001b[0m \u001b[0mabs_bmag_star\u001b[0m\u001b[0;34m[\u001b[0m\u001b[0;36m0\u001b[0m\u001b[0;34m]\u001b[0m\u001b[0;34m-\u001b[0m\u001b[0minterp_bmag\u001b[0m\u001b[0;34m[\u001b[0m\u001b[0;34m:\u001b[0m\u001b[0;34m]\u001b[0m\u001b[0;34m\u001b[0m\u001b[0m\n\u001b[1;32m     36\u001b[0m \u001b[0minner_star_r\u001b[0m \u001b[0;34m=\u001b[0m \u001b[0mabs_rmag_star\u001b[0m\u001b[0;34m[\u001b[0m\u001b[0;36m0\u001b[0m\u001b[0;34m]\u001b[0m\u001b[0;34m-\u001b[0m\u001b[0minterp_rmag\u001b[0m\u001b[0;34m[\u001b[0m\u001b[0;34m:\u001b[0m\u001b[0;34m]\u001b[0m\u001b[0;34m\u001b[0m\u001b[0m\n",
      "\u001b[0;31mNameError\u001b[0m: name 'abs_gmag_star' is not defined"
     ]
    }
   ],
   "source": [
    "abs_gmag_error, abs_bmag_error, abs_rmag_error, gaia_id = abs_mag_error()\n",
    "abs_gmag_error_T_Tau, abs_bmag_error_T_Tau, abs_rmag_error_T_Tau, gaia_id_T_Tau = abs_mag_error_T_Tau()\n",
    "abs_gmag, abs_bmag, abs_rmag, gaia_id_2 = abs_mag()\n",
    "abs_gmag_T_Tau, abs_bmag_T_Tau, abs_rmag_T_Tau, gaia_id_T_Tau_2 = abs_mag_T_Tau()\n",
    "\n",
    "#abs_gmag_star, abs_bmag_star, abs_rmag_star = abs_mag_star()\n",
    "#abs_gmag_error_star, abs_bmag_error_star, abs_rmag_error_star = abs_mag_error_star()\n",
    "\n",
    "\n",
    "\n",
    "random_samples = sample_generate(regen=True)\n",
    "random_ages = random_samples[:,0]\n",
    "random_mass = random_samples[:,1]\n",
    "interp_gmag = random_samples[:,2]\n",
    "interp_bmag = random_samples[:,3]\n",
    "interp_rmag = random_samples[:,4]\n",
    "binaryflag  = random_samples[:,5]\n",
    "print('done')\n",
    "print(random_ages)\n",
    "\n"
   ]
  },
  {
   "cell_type": "code",
   "execution_count": 14,
   "metadata": {},
   "outputs": [],
   "source": [
    "# targetnumber = 147869784062378624 #zz tau\n",
    "# #targetnumber = 146076343158991104 ## random thing near zz tau?\n",
    "# #targetnumber = 187053904579376512 #random error star\n",
    "\n",
    "# #targetnumber = data_3.source_id.values[2006]\n",
    "# #print(targetnumber)\n",
    "# abs_gmag_star,abs_bmag_star,abs_rmag_star,abs_gmag_error_star,abs_bmag_error_star,abs_rmag_error_star,sourcenumber = target_data(targetnumber)\n",
    "# print(abs_gmag_star)\n",
    "\n",
    "\n",
    "# def gaussian(inner, error):\n",
    "#     return((1/np.sqrt(2*math.pi*error**2))*(np.exp(-(inner)**2/(2*error**2))))\n",
    "\n",
    "# inner_star_g = abs_gmag_star[0]-interp_gmag[:]\n",
    "# inner_star_b = abs_bmag_star[0]-interp_bmag[:]\n",
    "# inner_star_r = abs_rmag_star[0]-interp_rmag[:]\n",
    "    \n",
    "# dist_gmag_star = gaussian(inner_star_g, abs_gmag_error_star[0])\n",
    "# dist_bmag_star = gaussian(inner_star_b, abs_bmag_error_star[0])\n",
    "# dist_rmag_star = gaussian(inner_star_r, abs_rmag_error_star[0])\n",
    "\n",
    "# prob_data_given_model_star = dist_gmag_star * dist_bmag_star * dist_rmag_star\n",
    "# priors =  (1/((1/(-1.35))*((1.0**(-1.35))-(0.1)**((-1.35)))))*(random_mass)**(-2.35)\n",
    "# prob_model_given_data_star = priors*prob_data_given_model_star\n",
    "\n",
    "# expected_star_age = np.average(np.log10(random_ages), weights = prob_model_given_data_star)\n",
    "# variance_star_age = np.average((np.log10(random_ages)-expected_star_age)**2, weights=prob_model_given_data_star)\n",
    "# expected_star_mass = np.average(random_mass, weights = prob_model_given_data_star )\n",
    "# variance_star_mass = np.average((random_mass-expected_star_mass)**2, weights=prob_model_given_data_star)\n",
    "# print(expected_star_age, variance_star_age, expected_star_mass, variance_star_mass)"
   ]
  },
  {
   "cell_type": "code",
   "execution_count": 54,
   "metadata": {
    "scrolled": true
   },
   "outputs": [
    {
     "name": "stdout",
     "output_type": "stream",
     "text": [
      "<class 'numpy.ndarray'>\n",
      "<class 'numpy.ndarray'>\n"
     ]
    },
    {
     "ename": "IndexError",
     "evalue": "index 187053904579376512 is out of bounds for axis 1 with size 34295",
     "output_type": "error",
     "traceback": [
      "\u001b[0;31m---------------------------------------------------------------------------\u001b[0m",
      "\u001b[0;31mIndexError\u001b[0m                                Traceback (most recent call last)",
      "\u001b[0;32m<ipython-input-54-229aab7de47c>\u001b[0m in \u001b[0;36m<module>\u001b[0;34m()\u001b[0m\n\u001b[1;32m      3\u001b[0m \u001b[0mgaia_id\u001b[0m \u001b[0;34m=\u001b[0m \u001b[0mnp\u001b[0m\u001b[0;34m.\u001b[0m\u001b[0masarray\u001b[0m\u001b[0;34m(\u001b[0m\u001b[0mdata_3\u001b[0m\u001b[0;34m.\u001b[0m\u001b[0msource_id\u001b[0m\u001b[0;34m.\u001b[0m\u001b[0mvalues\u001b[0m\u001b[0;34m)\u001b[0m\u001b[0;34m\u001b[0m\u001b[0m\n\u001b[1;32m      4\u001b[0m \u001b[0mprint\u001b[0m\u001b[0;34m(\u001b[0m\u001b[0mtype\u001b[0m\u001b[0;34m(\u001b[0m\u001b[0mgaia_id\u001b[0m\u001b[0;34m)\u001b[0m\u001b[0;34m)\u001b[0m\u001b[0;34m\u001b[0m\u001b[0m\n\u001b[0;32m----> 5\u001b[0;31m \u001b[0mabs_gmag_star\u001b[0m\u001b[0;34m,\u001b[0m\u001b[0mabs_bmag_star\u001b[0m\u001b[0;34m,\u001b[0m\u001b[0mabs_rmag_star\u001b[0m\u001b[0;34m,\u001b[0m\u001b[0mabs_gmag_error_star\u001b[0m\u001b[0;34m,\u001b[0m\u001b[0mabs_bmag_error_star\u001b[0m\u001b[0;34m,\u001b[0m\u001b[0mabs_rmag_error_star\u001b[0m\u001b[0;34m,\u001b[0m\u001b[0msourcenumber\u001b[0m \u001b[0;34m=\u001b[0m \u001b[0mtarget_data\u001b[0m\u001b[0;34m(\u001b[0m\u001b[0mgaia_id\u001b[0m\u001b[0;34m)\u001b[0m\u001b[0;34m\u001b[0m\u001b[0m\n\u001b[0m\u001b[1;32m      6\u001b[0m \u001b[0mprint\u001b[0m\u001b[0;34m(\u001b[0m\u001b[0msourcenumber\u001b[0m\u001b[0;34m)\u001b[0m\u001b[0;34m\u001b[0m\u001b[0m\n\u001b[1;32m      7\u001b[0m \u001b[0mprint\u001b[0m\u001b[0;34m(\u001b[0m\u001b[0mlen\u001b[0m\u001b[0;34m(\u001b[0m\u001b[0mabs_rmag_star\u001b[0m\u001b[0;34m)\u001b[0m\u001b[0;34m)\u001b[0m\u001b[0;34m\u001b[0m\u001b[0m\n",
      "\u001b[0;32m<ipython-input-53-b5142c71c5a7>\u001b[0m in \u001b[0;36mtarget_data\u001b[0;34m(gaia_id)\u001b[0m\n\u001b[1;32m     76\u001b[0m     \u001b[0mgaia_id\u001b[0m \u001b[0;34m==\u001b[0m \u001b[0;34m(\u001b[0m\u001b[0mdata_3\u001b[0m\u001b[0;34m.\u001b[0m\u001b[0msource_id\u001b[0m\u001b[0;34m.\u001b[0m\u001b[0mvalues\u001b[0m\u001b[0;34m)\u001b[0m\u001b[0;34m[\u001b[0m\u001b[0;36m0\u001b[0m\u001b[0;34m]\u001b[0m\u001b[0;34m\u001b[0m\u001b[0m\n\u001b[1;32m     77\u001b[0m     \u001b[0;32mif\u001b[0m \u001b[0mnp\u001b[0m\u001b[0;34m.\u001b[0m\u001b[0many\u001b[0m\u001b[0;34m(\u001b[0m\u001b[0mlen\u001b[0m\u001b[0;34m(\u001b[0m\u001b[0mgaia_id\u001b[0m\u001b[0;34m)\u001b[0m\u001b[0;34m)\u001b[0m \u001b[0;34m==\u001b[0m \u001b[0;36m0\u001b[0m\u001b[0;34m:\u001b[0m \u001b[0;32mreturn\u001b[0m \u001b[0;34m-\u001b[0m\u001b[0;36m1\u001b[0m\u001b[0;34m,\u001b[0m \u001b[0;34m-\u001b[0m\u001b[0;36m1\u001b[0m\u001b[0;34m,\u001b[0m \u001b[0;34m-\u001b[0m\u001b[0;36m1\u001b[0m\u001b[0;34m,\u001b[0m \u001b[0;34m-\u001b[0m\u001b[0;36m1\u001b[0m\u001b[0;34m,\u001b[0m \u001b[0;34m-\u001b[0m\u001b[0;36m1\u001b[0m\u001b[0;34m,\u001b[0m \u001b[0;34m-\u001b[0m\u001b[0;36m1\u001b[0m\u001b[0;34m,\u001b[0m \u001b[0;34m-\u001b[0m\u001b[0;36m1\u001b[0m\u001b[0;34m\u001b[0m\u001b[0m\n\u001b[0;32m---> 78\u001b[0;31m     \u001b[0;32mreturn\u001b[0m \u001b[0mabs_mag_g_Star\u001b[0m\u001b[0;34m[\u001b[0m\u001b[0;34m(\u001b[0m\u001b[0mgaia_id\u001b[0m\u001b[0;34m)\u001b[0m\u001b[0;34m]\u001b[0m\u001b[0;34m,\u001b[0m\u001b[0mabs_mag_b_Star\u001b[0m\u001b[0;34m[\u001b[0m\u001b[0;34m(\u001b[0m\u001b[0mgaia_id\u001b[0m\u001b[0;34m)\u001b[0m\u001b[0;34m]\u001b[0m\u001b[0;34m,\u001b[0m\u001b[0mabs_mag_r_Star\u001b[0m\u001b[0;34m[\u001b[0m\u001b[0;34m(\u001b[0m\u001b[0mgaia_id\u001b[0m\u001b[0;34m)\u001b[0m\u001b[0;34m]\u001b[0m\u001b[0;34m,\u001b[0m\u001b[0mmag_g_error_Star\u001b[0m\u001b[0;34m[\u001b[0m\u001b[0;34m(\u001b[0m\u001b[0mgaia_id\u001b[0m\u001b[0;34m)\u001b[0m\u001b[0;34m]\u001b[0m\u001b[0;34m,\u001b[0m\u001b[0mmag_b_error_Star\u001b[0m\u001b[0;34m[\u001b[0m\u001b[0;34m(\u001b[0m\u001b[0mgaia_id\u001b[0m\u001b[0;34m)\u001b[0m\u001b[0;34m]\u001b[0m\u001b[0;34m,\u001b[0m\u001b[0mmag_r_error_Star\u001b[0m\u001b[0;34m[\u001b[0m\u001b[0;34m(\u001b[0m\u001b[0mgaia_id\u001b[0m\u001b[0;34m)\u001b[0m\u001b[0;34m]\u001b[0m\u001b[0;34m,\u001b[0m \u001b[0mdata_3\u001b[0m\u001b[0;34m.\u001b[0m\u001b[0msource_id\u001b[0m\u001b[0;34m.\u001b[0m\u001b[0mvalues\u001b[0m\u001b[0;34m[\u001b[0m\u001b[0mgaia_id\u001b[0m\u001b[0;34m]\u001b[0m\u001b[0;34m\u001b[0m\u001b[0m\n\u001b[0m\u001b[1;32m     79\u001b[0m \u001b[0;34m\u001b[0m\u001b[0m\n\u001b[1;32m     80\u001b[0m \u001b[0;34m\u001b[0m\u001b[0m\n",
      "\u001b[0;31mIndexError\u001b[0m: index 187053904579376512 is out of bounds for axis 1 with size 34295"
     ]
    }
   ],
   "source": [
    "STAR_ARRAY = np.zeros((len(data_3.source_id.values),7),dtype=float)\n",
    "print(type(data_3.source_id.values))\n",
    "gaia_id = np.asarray(data_3.source_id.values)\n",
    "print(type(gaia_id))\n",
    "abs_gmag_star,abs_bmag_star,abs_rmag_star,abs_gmag_error_star,abs_bmag_error_star,abs_rmag_error_star,sourcenumber = target_data(gaia_id)\n",
    "print(sourcenumber)\n",
    "print(len(abs_rmag_star))\n",
    "# STAR_ARRAY[0] = abs_gmag_star\n",
    "# STAR_ARRAY[1] = abs_bmag_star\n",
    "# STAR_ARRAY[2] = abs_rmag_star\n",
    "# STAR_ARRAY[3] = abs_gmag_error_star\n",
    "# STAR_ARRAY[4] = abs_bmag_error_star\n",
    "# STAR_ARRAY[5] = abs_rmag_error_star\n",
    "# STAR_ARRAY[6] = sourcenumber"
   ]
  },
  {
   "cell_type": "code",
   "execution_count": null,
   "metadata": {},
   "outputs": [],
   "source": [
    "for i in data_3:\n"
   ]
  },
  {
   "cell_type": "code",
   "execution_count": null,
   "metadata": {},
   "outputs": [],
   "source": []
  }
 ],
 "metadata": {
  "kernelspec": {
   "display_name": "Python 3",
   "language": "python",
   "name": "python3"
  },
  "language_info": {
   "codemirror_mode": {
    "name": "ipython",
    "version": 3
   },
   "file_extension": ".py",
   "mimetype": "text/x-python",
   "name": "python",
   "nbconvert_exporter": "python",
   "pygments_lexer": "ipython3",
   "version": "3.5.5"
  }
 },
 "nbformat": 4,
 "nbformat_minor": 2
}
