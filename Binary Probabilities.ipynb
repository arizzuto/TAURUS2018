{
 "cells": [
  {
   "cell_type": "code",
   "execution_count": 8,
   "metadata": {},
   "outputs": [
    {
     "name": "stderr",
     "output_type": "stream",
     "text": [
      "taurus_functions.ipynb:33: DeprecationWarning: elementwise == comparison failed; this will raise an error in the future.\n",
      "  \"phot_bp_mean_flux_error = data.phot_bp_mean_flux.values *( 1/(data.phot_bp_mean_flux_over_error.values))\\n\",\n"
     ]
    }
   ],
   "source": [
    "import numpy as np\n",
    "import os,sys,glob,pdb,pickle\n",
    "import pandas as pd\n",
    "import matplotlib.pyplot as plt\n",
    "import matplotlib as mpl\n",
    "sys.path.append('pyutils')\n",
    "import math\n",
    "\n",
    "%run taurus_functions.ipynb"
   ]
  },
  {
   "cell_type": "code",
   "execution_count": null,
   "metadata": {},
   "outputs": [],
   "source": [
    "#only 90% of total probability values from paper because of resolution of Gaia---> 3 arcseconds roughly\n",
    "#M Type: 35% +/- 10%\n",
    "#G Type 43% +/- 3%"
   ]
  },
  {
   "cell_type": "code",
   "execution_count": 5,
   "metadata": {},
   "outputs": [
    {
     "name": "stdout",
     "output_type": "stream",
     "text": [
      "outputting samples to log_age.pkl\n"
     ]
    }
   ],
   "source": [
    "log_age_sample = sample_generate(nsamples=2000000, regen=True, outfilename='log_age.pkl')"
   ]
  },
  {
   "cell_type": "code",
   "execution_count": 6,
   "metadata": {},
   "outputs": [],
   "source": [
    "file = pickle.load(open('log_age.pkl', 'rb'))"
   ]
  },
  {
   "cell_type": "code",
   "execution_count": 7,
   "metadata": {},
   "outputs": [
    {
     "name": "stdout",
     "output_type": "stream",
     "text": [
      "done\n"
     ]
    }
   ],
   "source": [
    "random_log_age_samples = log_age_sample\n",
    "random_log_ages = random_log_age_samples[:,0]\n",
    "random_mass = random_log_age_samples[:,1]\n",
    "interp_gmag = random_log_age_samples[:,2]\n",
    "interp_bmag = random_log_age_samples[:,3]\n",
    "interp_rmag = random_log_age_samples[:,4]\n",
    "print('done')\n"
   ]
  },
  {
   "cell_type": "code",
   "execution_count": null,
   "metadata": {},
   "outputs": [],
   "source": []
  }
 ],
 "metadata": {
  "kernelspec": {
   "display_name": "Python 3",
   "language": "python",
   "name": "python3"
  },
  "language_info": {
   "codemirror_mode": {
    "name": "ipython",
    "version": 3
   },
   "file_extension": ".py",
   "mimetype": "text/x-python",
   "name": "python",
   "nbconvert_exporter": "python",
   "pygments_lexer": "ipython3",
   "version": "3.5.5"
  }
 },
 "nbformat": 4,
 "nbformat_minor": 2
}
