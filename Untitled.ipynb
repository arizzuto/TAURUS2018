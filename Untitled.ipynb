{
 "cells": [
  {
   "cell_type": "code",
   "execution_count": 20,
   "metadata": {
    "collapsed": true
   },
   "outputs": [],
   "source": [
    "# def readfile(filename):\n",
    "#     output = pd.read_csv(filename, sep=',')\n",
    "#     return output\n",
    "# \n",
    "# dfile = 'GDR2_TAUAUR_cleaned.csv'\n",
    "# data = readfile(dfile)\n",
    "\n",
    "# def give_me_data():\n",
    "\n",
    "#     phot_bp_mean_flux_error = data.phot_bp_mean_flux.values *( 1/(data.phot_bp_mean_flux_over_error.values))\n",
    "#     phot_rp_mean_flux_error = data.phot_rp_mean_flux.values *( 1/(data.phot_rp_mean_flux_over_error.values))\n",
    "#     phot_g_mean_flux_error = data.phot_g_mean_flux.values *( 1/(data.phot_g_mean_flux_over_error.values))\n",
    "\n",
    "#     mag_bp_error = np.abs(-2.5*(phot_bp_mean_flux_error/(data.phot_bp_mean_flux.values*math.log(10))))\n",
    "#     mag_rp_error = np.abs(-2.5*(phot_rp_mean_flux_error/(data.phot_rp_mean_flux.values*math.log(10))))\n",
    "#     mag_g_error = np.abs(-2.5*(phot_g_mean_flux_error/(data.phot_g_mean_flux.values*math.log(10))))\n",
    "\n",
    "#     abs_mag_g = data.phot_g_mean_mag.values+5-5*np.log10(1000.0/data.parallax.values)\n",
    "#     abs_mag_bp = data.phot_bp_mean_mag.values+5-5*np.log10(1000.0/data.parallax.values)\n",
    "#     abs_mag_rp = data.phot_rp_mean_mag.values+5-5*np.log10(1000.0/data.parallax.values)\n",
    "#     parallax_error_np_array= np.array([data.parallax_error.values])\n",
    "#     parallax_np_array = np.array([data.parallax.values])\n",
    "#     mag_g_error_np_array= np.array([mag_g_error])\n",
    "#     mag_bp_error_np_array= np.array([mag_bp_error])\n",
    "#     mag_rp_error_np_array= np.array([mag_rp_error])\n",
    "#     abs_mag_g_error = np.sqrt((mag_g_error_np_array)**2 + np.abs(5*(parallax_error_np_array/parallax_np_array)/(math.log(10)))**2)\n",
    "#     abs_mag_bp_error = np.sqrt((mag_bp_error_np_array)**2 + np.abs(5*(parallax_error_np_array/parallax_np_array)/(math.log(10)))**2)\n",
    "#     abs_mag_rp_error = np.sqrt((mag_rp_error_np_array)**2 + np.abs(5*(parallax_error_np_array/parallax_np_array)/(math.log(10)))**2)\n",
    "\n",
    "#     keep_2 = np.where((data.phot_g_mean_flux_over_error > 50)  & (data.visibility_periods_used < 8) & (data.phot_bp_mean_flux_over_error > 20) & (data.phot_rp_mean_flux_over_error > 20) & ((data.visibility_periods_used > 8)))[0]\n",
    "#     sourcename = data.source_id.values\n",
    "\n",
    "#     return sourcename[keep_2],abs_mag_g[keep_2], abs_mag_g_error[keep_2], abs_mag_bp[keep_2], abs_mag_bp_error[keep_2], abs_mag_rp[keep_2], abs_mag_rp_error[keep_2]\n",
    "\n",
    "\n",
    "\n",
    "\n",
    "#nsamples = 1000000\n",
    "\n",
    "def sample_generate(nsamples=1000000, regen=False, outfilename='tmp.pkl',readfile=None):\n",
    "    \n",
    "    if regen == False:\n",
    "        import pickle\n",
    "        if readfile == None: readfile = 'Random_sample_180625.pkl'\n",
    "        f = pickle.load(open(readfile, 'rb'))\n",
    "        return f\n",
    "    \n",
    "    if regen == True:\n",
    "        import pickle\n",
    "        import numpy as np\n",
    "        model_ages,model_array=pickle.load(open('stacked_parsec_models.pkl','rb'))\n",
    "        model_stars = np.zeros((nsamples,5),dtype=float)\n",
    "\n",
    "        random_age = np.random.uniform(1.,3000,size=nsamples)\n",
    "        random_mass = np.random.uniform(0.1,1.0,size=nsamples)\n",
    "        \n",
    "        for i in range(len(random_age)):\n",
    "            low_indx = np.where(model_ages <= random_age[i])[0][-1]\n",
    "            high_indx = np.where(model_ages > random_age[i])[0][0]\n",
    "            \n",
    "            lowmodel  = model_array[low_indx]\n",
    "            highmodel = model_array[high_indx]\n",
    "            \n",
    "            low_gmag = np.interp(random_mass[i],lowmodel.Mass,lowmodel.Gmag)\n",
    "            low_bpmag = np.interp(random_mass[i],lowmodel.Mass,lowmodel.G_BPmag)\n",
    "            low_rpmag = np.interp(random_mass[i],lowmodel.Mass,lowmodel.G_RPmag)\n",
    "            high_gmag = np.interp(random_mass[i],highmodel.Mass,highmodel.Gmag)\n",
    "            high_bpmag = np.interp(random_mass[i],highmodel.Mass,highmodel.G_BPmag)\n",
    "            high_rpmag = np.interp(random_mass[i],highmodel.Mass,highmodel.G_RPmag)\n",
    "            \n",
    "            model_stars[i,0] =(random_age[i])\n",
    "            model_stars[i,1] =(random_mass[i])\n",
    "            model_stars[i,2] = np.interp(random_age[i],[model_ages[low_indx],model_ages[high_indx]],[low_gmag,high_gmag])\n",
    "            model_stars[i,3] = np.interp(random_age[i],[model_ages[low_indx],model_ages[high_indx]],[low_bpmag,high_bpmag])\n",
    "            model_stars[i,4] = np.interp(random_age[i],[model_ages[low_indx],model_ages[high_indx]],[low_rpmag,high_rpmag])\n",
    "            pickle.dump(model_stars,open(outfilename,'wb'))\n",
    "            print('outputting samples to ' + outfilename)\n",
    "            return model_stars\n",
    "        "
   ]
  },
  {
   "cell_type": "code",
   "execution_count": 21,
   "metadata": {},
   "outputs": [
    {
     "name": "stdout",
     "output_type": "stream",
     "text": [
      "(2000000, 5)\n"
     ]
    }
   ],
   "source": [
    "testing = sample_generate()\n",
    "print(testing.shape)"
   ]
  },
  {
   "cell_type": "code",
   "execution_count": 19,
   "metadata": {},
   "outputs": [
    {
     "name": "stdout",
     "output_type": "stream",
     "text": [
      "outputting samples to tmp.pkl\n",
      "(10, 5)\n"
     ]
    }
   ],
   "source": [
    "testing = sample_generate(nsamples=10,regen=True)\n",
    "print(testing.shape)"
   ]
  },
  {
   "cell_type": "code",
   "execution_count": null,
   "metadata": {
    "collapsed": true
   },
   "outputs": [],
   "source": []
  }
 ],
 "metadata": {
  "kernelspec": {
   "display_name": "Python 2",
   "language": "python",
   "name": "python2"
  },
  "language_info": {
   "codemirror_mode": {
    "name": "ipython",
    "version": 2
   },
   "file_extension": ".py",
   "mimetype": "text/x-python",
   "name": "python",
   "nbconvert_exporter": "python",
   "pygments_lexer": "ipython2",
   "version": "2.7.13"
  }
 },
 "nbformat": 4,
 "nbformat_minor": 2
}
