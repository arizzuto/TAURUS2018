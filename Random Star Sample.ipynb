{
 "cells": [
  {
   "cell_type": "code",
   "execution_count": 2,
   "metadata": {},
   "outputs": [],
   "source": [
    "import numpy as np\n",
    "import os,sys,glob,pdb,pickle\n",
    "import pandas as pd\n",
    "import matplotlib.pyplot as plt\n",
    "import matplotlib as mpl\n",
    "sys.path.append('pyutils')\n",
    "\n",
    "#stuff = taurus_functions.give_me_data()\n"
   ]
  },
  {
   "cell_type": "code",
   "execution_count": 6,
   "metadata": {},
   "outputs": [],
   "source": [
    "#thisiso = pd.read_csv('parsec_isochrones.txt')\n",
    "#print(thisiso.Age)\n",
    "#print(len(thisiso.Age))\n",
    "#ages = thisiso.Age/1.0e6 \n",
    "#print(ages)\n",
    "#model_array += (thisiso.copy(),)\n",
    "#pickle.dump((ages,model_array),open('stacked_parsec_models.pkl','ab'))\n",
    "model_ages,model_array=pickle.load(open('stacked_parsec_models.pkl','rb'))\n"
   ]
  },
  {
   "cell_type": "code",
   "execution_count": 5,
   "metadata": {},
   "outputs": [
    {
     "name": "stdout",
     "output_type": "stream",
     "text": [
      "[1.00071820e+00 1.00161073e+00 1.00264634e+00 ... 2.99999646e+03\n",
      " 2.99999777e+03 2.99999797e+03]\n"
     ]
    }
   ],
   "source": [
    "nsamples = 2000000\n",
    "random_age = np.random.uniform(1.,3000,size=nsamples)\n",
    "random_mass = np.random.uniform(0.1,1.0,size=nsamples)\n",
    "SORTED_random_ages = np.sort(random_age)\n",
    "print(SORTED_random_ages)\n"
   ]
  },
  {
   "cell_type": "code",
   "execution_count": 8,
   "metadata": {},
   "outputs": [
    {
     "name": "stdout",
     "output_type": "stream",
     "text": [
      "Up to 100000\n",
      "Up to 200000\n",
      "Up to 300000\n",
      "Up to 400000\n",
      "Up to 500000\n",
      "Up to 600000\n",
      "Up to 700000\n",
      "Up to 800000\n",
      "Up to 900000\n",
      "Up to 1000000\n",
      "Up to 1100000\n",
      "Up to 1200000\n",
      "Up to 1300000\n",
      "Up to 1400000\n",
      "Up to 1500000\n",
      "Up to 1600000\n",
      "Up to 1700000\n",
      "Up to 1800000\n",
      "Up to 1900000\n",
      "Up to 2000000\n",
      "10.0\n"
     ]
    },
    {
     "data": {
      "image/png": "[encoded data removed]",
      "text/plain": [
       "<Figure size 432x288 with 1 Axes>"
      ]
     },
     "metadata": {},
     "output_type": "display_data"
    }
   ],
   "source": [
    "model_stars = np.zeros((nsamples,5),dtype=float)\n",
    "\n",
    "#refArray = np.random.random(16);\n",
    "#myArray = np.random.random(1000);\n",
    "\n",
    "\n",
    "#def Nearest_Point(array, value):\n",
    "    #idx = (np.abs(array-value)).argmin()\n",
    "    #return idx;\n",
    "\n",
    "#for value in np.nditer(random_age):\n",
    "    #index = find_nearest(refArray, value);\n",
    "    #print(index);\n",
    "\n",
    "for i in range(len(random_age)):\n",
    "    low_indx = np.where(model_ages <= random_age[i])[0][-1]\n",
    "    high_indx = np.where(model_ages > random_age[i])[0][0]\n",
    "    \n",
    "    #for each of the two nearst model above, interpolated G/R/B for the the input random mass.\n",
    "    lowmodel  = model_array[low_indx]\n",
    "    highmodel = model_array[high_indx]\n",
    "    \n",
    "    ##GMAG for the random mass for each model\n",
    "    low_gmag = np.interp(random_mass[i],lowmodel.Mass,lowmodel.Gmag)\n",
    "    low_bpmag = np.interp(random_mass[i],lowmodel.Mass,lowmodel.G_BPmag)\n",
    "    low_rpmag = np.interp(random_mass[i],lowmodel.Mass,lowmodel.G_RPmag)\n",
    "    high_gmag = np.interp(random_mass[i],highmodel.Mass,highmodel.Gmag)\n",
    "    high_bpmag = np.interp(random_mass[i],highmodel.Mass,highmodel.G_BPmag)\n",
    "    high_rpmag = np.interp(random_mass[i],highmodel.Mass,highmodel.G_RPmag)\n",
    "    \n",
    "    ##Now interpolate these two to the random age\n",
    "    model_stars[i,0] =(random_age[i])\n",
    "    model_stars[i,1] =(random_mass[i])\n",
    "    model_stars[i,2] = np.interp(random_age[i],[model_ages[low_indx],model_ages[high_indx]],[low_gmag,high_gmag])\n",
    "    model_stars[i,3] = np.interp(random_age[i],[model_ages[low_indx],model_ages[high_indx]],[low_bpmag,high_bpmag])\n",
    "    model_stars[i,4] = np.interp(random_age[i],[model_ages[low_indx],model_ages[high_indx]],[low_rpmag,high_rpmag])\n",
    "\n",
    "    if np.mod(i+1,100000) == 0: print('Up to ' + str(i+1))\n",
    "\n",
    "                       \n",
    "\n",
    "pickle.dump(model_stars,open('Random_sample_180625.pkl','wb'))\n",
    "            \n",
    "                       #plt.hist(model_stars[:,1])\n",
    "#plt.show()\n",
    "plt.plot(model_stars[:,3]-model_stars[:,4], model_stars[:,2], '.k')\n",
    "#plt.show()\n",
    "##print(model_ages[340])\n",
    "ttt = 100\n",
    "print(model_ages[ttt])\n",
    "plt.plot(model_array[ttt].G_BPmag - model_array[ttt].G_RPmag, model_array[ttt].Gmag,'r')\n",
    "\n",
    "plt.show()\n",
    "\n",
    "    \n",
    "    \n",
    "\n",
    "    "
   ]
  },
  {
   "cell_type": "code",
   "execution_count": 9,
   "metadata": {},
   "outputs": [],
   "source": [
    "avg_gmag = model_stars[i,2] / nsamples\n",
    "avg_bpmag = model_stars[i,3] / nsamples\n",
    "avg_rpmag = model_stars[i,4] / nsamples\n"
   ]
  },
  {
   "cell_type": "code",
   "execution_count": null,
   "metadata": {},
   "outputs": [],
   "source": []
  },
  {
   "cell_type": "code",
   "execution_count": null,
   "metadata": {},
   "outputs": [],
   "source": [
    "\n"
   ]
  },
  {
   "cell_type": "code",
   "execution_count": null,
   "metadata": {},
   "outputs": [],
   "source": []
  }
 ],
 "metadata": {
  "kernelspec": {
   "display_name": "Python 3",
   "language": "python",
   "name": "python3"
  },
  "language_info": {
   "codemirror_mode": {
    "name": "ipython",
    "version": 3
   },
   "file_extension": ".py",
   "mimetype": "text/x-python",
   "name": "python",
   "nbconvert_exporter": "python",
   "pygments_lexer": "ipython3",
   "version": "3.5.5"
  }
 },
 "nbformat": 4,
 "nbformat_minor": 2
}
